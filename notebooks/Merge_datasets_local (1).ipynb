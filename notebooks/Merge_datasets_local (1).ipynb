{
  "cells": [
    {
      "cell_type": "code",
      "execution_count": null,
      "metadata": {
        "id": "mKb-4Hv4xNpF"
      },
      "outputs": [],
      "source": [
        "pip install datasets"
      ]
    },
    {
      "cell_type": "code",
      "execution_count": null,
      "metadata": {
        "id": "1QHW2w8cdupP"
      },
      "outputs": [],
      "source": [
        "import huggingface_hub"
      ]
    },
    {
      "cell_type": "code",
      "execution_count": null,
      "metadata": {
        "id": "-Oz-lmmExH_F"
      },
      "outputs": [],
      "source": [
        "import os\n",
        "import pandas as pd\n",
        "import huggingface_hub\n",
        "import datasets\n",
        "from datasets import load_dataset, load_from_disk,concatenate_datasets"
      ]
    },
    {
      "cell_type": "code",
      "execution_count": null,
      "metadata": {
        "id": "NfVKJ5xgdyc1"
      },
      "outputs": [],
      "source": [
        "huggingface_hub.login()"
      ]
    },
    {
      "cell_type": "code",
      "execution_count": null,
      "metadata": {
        "id": "llvhheVWjDwi"
      },
      "outputs": [],
      "source": [
        "from transformers import AutoModelForCausalLM, AutoTokenizer\n",
        "checkpoint=\"saheedniyi/YarnGPT\"\n",
        "#checkpoint=\"saheedniyi/public_extra2\"#device = \"cuda\" # for GPU usage or \"cpu\" for CPU usage\n",
        "tokenizer = AutoTokenizer.from_pretrained(checkpoint)"
      ]
    },
    {
      "cell_type": "code",
      "execution_count": null,
      "metadata": {
        "id": "sfVhIZEpisZg"
      },
      "outputs": [],
      "source": [
        "def token_length(prompt):\n",
        "     return len(tokenizer(prompt)[\"input_ids\"])"
      ]
    },
    {
      "cell_type": "code",
      "execution_count": null,
      "metadata": {
        "id": "ACU3ZWjAfTsI"
      },
      "outputs": [],
      "source": [
        "all_df=[]\n",
        "for df_path in os.listdir(\"/content/drive/MyDrive/naij_tokenized\"):\n",
        "  if ('.gsheet' not in df_path):\n",
        "    df=pd.read_csv(f\"/content/drive/MyDrive/naij_tokenized/{df_path}\")\n",
        "    df[\"length\"]=df[\"tts\"].apply(token_length)\n",
        "    print(df_path)\n",
        "    all_df.append(df)"
      ]
    },
    {
      "cell_type": "code",
      "execution_count": null,
      "metadata": {
        "id": "9f8aFlgOfb6c"
      },
      "outputs": [],
      "source": [
        "train_data=pd.concat(all_df)"
      ]
    },
    {
      "cell_type": "code",
      "execution_count": null,
      "metadata": {
        "id": "Hsq8k7WogC_j"
      },
      "outputs": [],
      "source": [
        "train_data_1=train_data.drop_duplicates(\"tts\")"
      ]
    },
    {
      "cell_type": "code",
      "execution_count": null,
      "metadata": {
        "id": "dVYrYSISn9hE"
      },
      "outputs": [],
      "source": [
        "train_data_1.shape"
      ]
    },
    {
      "cell_type": "code",
      "execution_count": null,
      "metadata": {
        "id": "bec2mRTdoAf_"
      },
      "outputs": [],
      "source": [
        "train_data.shape"
      ]
    },
    {
      "cell_type": "code",
      "source": [
        "train_data_1.drop(\"stt\",axis=1, inplace=True)"
      ],
      "metadata": {
        "id": "pythz_XcgF9t"
      },
      "execution_count": null,
      "outputs": []
    },
    {
      "cell_type": "code",
      "source": [
        "train_data_1.drop([\"Unnamed: 0\",\"__index_level_0__\"],axis=1, inplace=True)"
      ],
      "metadata": {
        "id": "9yebXiwvgZMa"
      },
      "execution_count": null,
      "outputs": []
    },
    {
      "cell_type": "code",
      "source": [
        "def replace_text(txt):\n",
        "    txt=txt.replace(\"<|hausa|\\n\",\"<|hausa|>\\n\")\n",
        "    txt=txt.replace(\"<|igbo|\\n\",\"<|igbo|>\\n\")\n",
        "    txt=txt.replace(\"<|yoruba|\\n\",\"<|yoruba|>\\n\")#hausa\":\"<|hausa|\",\n",
        "    txt=txt.replace(\"\\n<|tts|>\",\"\")\n",
        "    return txt"
      ],
      "metadata": {
        "id": "kUvi1ItQg6HT"
      },
      "execution_count": null,
      "outputs": []
    },
    {
      "cell_type": "code",
      "execution_count": null,
      "metadata": {
        "id": "TgWv4W8Wiwd1"
      },
      "outputs": [],
      "source": [
        "train_data_1=train_data_1[train_data_1[\"tts\"]!=\"An error occurred\"]"
      ]
    },
    {
      "cell_type": "code",
      "source": [
        "train_data_1[\"tts\"]=train_data_1[\"tts\"].apply(replace_text)"
      ],
      "metadata": {
        "id": "CP7bVwRqh_qH"
      },
      "execution_count": null,
      "outputs": []
    },
    {
      "cell_type": "code",
      "source": [
        "train_data_1.shape"
      ],
      "metadata": {
        "id": "YMk40ZsIrW44"
      },
      "execution_count": null,
      "outputs": []
    },
    {
      "cell_type": "code",
      "source": [
        "train_data_1"
      ],
      "metadata": {
        "id": "RVD3f0frrcfi"
      },
      "execution_count": null,
      "outputs": []
    },
    {
      "cell_type": "code",
      "source": [
        "train_data_1=train_data_1[train_data_1[\"length\"]<4000]"
      ],
      "metadata": {
        "id": "utJLIf1orhnE"
      },
      "execution_count": null,
      "outputs": []
    },
    {
      "cell_type": "code",
      "source": [
        "train_data_1.to_csv(\"/content/drive/MyDrive/naij_tokenized/final_all_lang.csv\")"
      ],
      "metadata": {
        "id": "BOynFjQlruWJ"
      },
      "execution_count": null,
      "outputs": []
    }
  ],
  "metadata": {
    "colab": {
      "machine_shape": "hm",
      "provenance": []
    },
    "kernelspec": {
      "display_name": "Python 3",
      "name": "python3"
    },
    "language_info": {
      "name": "python"
    }
  },
  "nbformat": 4,
  "nbformat_minor": 0
}